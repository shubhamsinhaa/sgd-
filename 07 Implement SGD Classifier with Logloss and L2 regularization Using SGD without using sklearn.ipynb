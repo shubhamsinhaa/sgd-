{
  "nbformat": 4,
  "nbformat_minor": 0,
  "metadata": {
    "colab": {
      "name": "Logistic_Regression_using_SGD.ipynb",
      "provenance": [],
      "collapsed_sections": []
    },
    "kernelspec": {
      "display_name": "Python 3",
      "language": "python",
      "name": "python3"
    },
    "language_info": {
      "codemirror_mode": {
        "name": "ipython",
        "version": 3
      },
      "file_extension": ".py",
      "mimetype": "text/x-python",
      "name": "python",
      "nbconvert_exporter": "python",
      "pygments_lexer": "ipython3",
      "version": "3.6.8"
    }
  },
  "cells": [
    {
      "cell_type": "code",
      "metadata": {
        "colab_type": "code",
        "id": "I2S-uFqwSvmg",
        "colab": {}
      },
      "source": [
        "import numpy as np\n",
        "import pandas as pd\n",
        "from sklearn.datasets import make_classification"
      ],
      "execution_count": 0,
      "outputs": []
    },
    {
      "cell_type": "code",
      "metadata": {
        "colab_type": "code",
        "id": "FUxLkBjISvmr",
        "colab": {}
      },
      "source": [
        "X, y = make_classification(n_samples=50000, n_features=15, n_informative=10, n_redundant=5,\n",
        "                           n_classes=2, weights=[0.7], class_sep=0.7, random_state=15)"
      ],
      "execution_count": 0,
      "outputs": []
    },
    {
      "cell_type": "code",
      "metadata": {
        "colab_type": "code",
        "id": "xexp5GYNSvmz",
        "outputId": "57a85130-926d-417e-d246-f7d02af37c86",
        "colab": {
          "base_uri": "https://localhost:8080/",
          "height": 34
        }
      },
      "source": [
        "X.shape, y.shape"
      ],
      "execution_count": 3,
      "outputs": [
        {
          "output_type": "execute_result",
          "data": {
            "text/plain": [
              "((50000, 15), (50000,))"
            ]
          },
          "metadata": {
            "tags": []
          },
          "execution_count": 3
        }
      ]
    },
    {
      "cell_type": "code",
      "metadata": {
        "colab_type": "code",
        "id": "9pKAn1-ASvm_",
        "outputId": "01cc472a-ff02-4104-f7f7-5bcb09feee12",
        "colab": {
          "base_uri": "https://localhost:8080/",
          "height": 34
        }
      },
      "source": [
        "from sklearn.model_selection import train_test_split\n",
        "X_train, X_test, y_train, y_test = train_test_split(X, y, test_size=0.25, random_state=15)\n",
        "X_train.shape, y_train.shape, X_test.shape, y_test.shape"
      ],
      "execution_count": 4,
      "outputs": [
        {
          "output_type": "execute_result",
          "data": {
            "text/plain": [
              "((37500, 15), (37500,), (12500, 15), (12500,))"
            ]
          },
          "metadata": {
            "tags": []
          },
          "execution_count": 4
        }
      ]
    },
    {
      "cell_type": "code",
      "metadata": {
        "colab_type": "code",
        "id": "sShoMeocSvnP",
        "colab": {}
      },
      "source": [
        "from sklearn import linear_model"
      ],
      "execution_count": 0,
      "outputs": []
    },
    {
      "cell_type": "code",
      "metadata": {
        "colab_type": "code",
        "id": "gm6wi8L2SvnU",
        "outputId": "9e8903fe-22f7-4d2e-b3b2-9fbf2737a81b",
        "colab": {
          "base_uri": "https://localhost:8080/",
          "height": 118
        }
      },
      "source": [
        "# alpha : float\n",
        "# Constant that multiplies the regularization term. \n",
        "\n",
        "# eta0 : double\n",
        "# The initial learning rate for the ‘constant’, ‘invscaling’ or ‘adaptive’ schedules.\n",
        "\n",
        "clf = linear_model.SGDClassifier(eta0=0.0001, alpha=0.0001, loss='log', random_state=15, penalty='l2', tol=1e-3, verbose=2, learning_rate='constant')\n",
        "clf"
      ],
      "execution_count": 6,
      "outputs": [
        {
          "output_type": "execute_result",
          "data": {
            "text/plain": [
              "SGDClassifier(alpha=0.0001, average=False, class_weight=None,\n",
              "              early_stopping=False, epsilon=0.1, eta0=0.0001,\n",
              "              fit_intercept=True, l1_ratio=0.15, learning_rate='constant',\n",
              "              loss='log', max_iter=1000, n_iter_no_change=5, n_jobs=None,\n",
              "              penalty='l2', power_t=0.5, random_state=15, shuffle=True,\n",
              "              tol=0.001, validation_fraction=0.1, verbose=2, warm_start=False)"
            ]
          },
          "metadata": {
            "tags": []
          },
          "execution_count": 6
        }
      ]
    },
    {
      "cell_type": "code",
      "metadata": {
        "colab_type": "code",
        "id": "Q4WFoxgASvnc",
        "outputId": "f6ad2e2e-825a-4136-f366-3d295d00da8f",
        "colab": {
          "base_uri": "https://localhost:8080/",
          "height": 638
        }
      },
      "source": [
        "clf.fit(X=X_train, y=y_train)"
      ],
      "execution_count": 7,
      "outputs": [
        {
          "output_type": "stream",
          "text": [
            "-- Epoch 1\n",
            "Norm: 0.77, NNZs: 15, Bias: -0.316653, T: 37500, Avg. loss: 0.455552\n",
            "Total training time: 0.01 seconds.\n",
            "-- Epoch 2\n",
            "Norm: 0.91, NNZs: 15, Bias: -0.472747, T: 75000, Avg. loss: 0.394686\n",
            "Total training time: 0.03 seconds.\n",
            "-- Epoch 3\n",
            "Norm: 0.98, NNZs: 15, Bias: -0.580082, T: 112500, Avg. loss: 0.385711\n",
            "Total training time: 0.04 seconds.\n",
            "-- Epoch 4\n",
            "Norm: 1.02, NNZs: 15, Bias: -0.658292, T: 150000, Avg. loss: 0.382083\n",
            "Total training time: 0.05 seconds.\n",
            "-- Epoch 5\n",
            "Norm: 1.04, NNZs: 15, Bias: -0.719528, T: 187500, Avg. loss: 0.380486\n",
            "Total training time: 0.06 seconds.\n",
            "-- Epoch 6\n",
            "Norm: 1.05, NNZs: 15, Bias: -0.763409, T: 225000, Avg. loss: 0.379578\n",
            "Total training time: 0.08 seconds.\n",
            "-- Epoch 7\n",
            "Norm: 1.06, NNZs: 15, Bias: -0.795106, T: 262500, Avg. loss: 0.379150\n",
            "Total training time: 0.09 seconds.\n",
            "-- Epoch 8\n",
            "Norm: 1.06, NNZs: 15, Bias: -0.819925, T: 300000, Avg. loss: 0.378856\n",
            "Total training time: 0.10 seconds.\n",
            "-- Epoch 9\n",
            "Norm: 1.07, NNZs: 15, Bias: -0.837805, T: 337500, Avg. loss: 0.378585\n",
            "Total training time: 0.11 seconds.\n",
            "-- Epoch 10\n",
            "Norm: 1.08, NNZs: 15, Bias: -0.853138, T: 375000, Avg. loss: 0.378630\n",
            "Total training time: 0.13 seconds.\n",
            "Convergence after 10 epochs took 0.13 seconds\n"
          ],
          "name": "stdout"
        },
        {
          "output_type": "execute_result",
          "data": {
            "text/plain": [
              "SGDClassifier(alpha=0.0001, average=False, class_weight=None,\n",
              "              early_stopping=False, epsilon=0.1, eta0=0.0001,\n",
              "              fit_intercept=True, l1_ratio=0.15, learning_rate='constant',\n",
              "              loss='log', max_iter=1000, n_iter_no_change=5, n_jobs=None,\n",
              "              penalty='l2', power_t=0.5, random_state=15, shuffle=True,\n",
              "              tol=0.001, validation_fraction=0.1, verbose=2, warm_start=False)"
            ]
          },
          "metadata": {
            "tags": []
          },
          "execution_count": 7
        }
      ]
    },
    {
      "cell_type": "code",
      "metadata": {
        "colab_type": "code",
        "id": "7WaVxhGpSvnj",
        "outputId": "4b6db707-8a03-46c1-fb8d-1dadcff34a87",
        "colab": {
          "base_uri": "https://localhost:8080/",
          "height": 101
        }
      },
      "source": [
        "clf.coef_, clf.coef_.shape, clf.intercept_"
      ],
      "execution_count": 8,
      "outputs": [
        {
          "output_type": "execute_result",
          "data": {
            "text/plain": [
              "(array([[-0.42336692,  0.18547565, -0.14859036,  0.34144407, -0.2081867 ,\n",
              "          0.56016579, -0.45242483, -0.09408813,  0.2092732 ,  0.18084126,\n",
              "          0.19705191,  0.00421916, -0.0796037 ,  0.33852802,  0.02266721]]),\n",
              " (1, 15),\n",
              " array([-0.8531383]))"
            ]
          },
          "metadata": {
            "tags": []
          },
          "execution_count": 8
        }
      ]
    },
    {
      "cell_type": "markdown",
      "metadata": {
        "colab_type": "text",
        "id": "UOBvEchCSvnr"
      },
      "source": [
        "## Implement Logistc Regression with L2 regularization Using SGD: without using sklearn"
      ]
    },
    {
      "cell_type": "markdown",
      "metadata": {
        "colab_type": "text",
        "id": "Xbn61rrXSvnt"
      },
      "source": [
        "### Instructions"
      ]
    },
    {
      "cell_type": "markdown",
      "metadata": {
        "colab_type": "text",
        "id": "14bA5yR3Svnv"
      },
      "source": [
        "- Load the datasets(train and test) into the respective arrays"
      ]
    },
    {
      "cell_type": "markdown",
      "metadata": {
        "colab_type": "text",
        "id": "c7183hFBSvnv"
      },
      "source": [
        "- Initialize the weight_vector and intercept term randomly"
      ]
    },
    {
      "cell_type": "markdown",
      "metadata": {
        "colab_type": "text",
        "id": "hdLeFU0USvnx"
      },
      "source": [
        "- Calculate the initlal log loss for the train and test data with the current weight and intercept and store it in a list"
      ]
    },
    {
      "cell_type": "markdown",
      "metadata": {
        "colab_type": "text",
        "id": "pEVtAlO1Svny"
      },
      "source": [
        "- for each epoch:\n",
        "    - for each batch of data points in train: (keep batch size=1)\n",
        "        - calculate the gradient of loss function w.r.t each weight in weight vector\n",
        "        - Calculate the gradient of the intercept <a href='https://drive.google.com/file/d/1nQ08-XY4zvOLzRX-lGf8EYB5arb7-m1H/view?usp=sharing'>check this</a>\n",
        "        - Update weights and intercept (check the equation number 32 in the above mentioned <a href='https://drive.google.com/file/d/1nQ08-XY4zvOLzRX-lGf8EYB5arb7-m1H/view?usp=sharing'>pdf</a>): <br>\n",
        "        $w^{(t+1)} ← (1 − \\frac{αλ}{N} )w^{(t)} + αx_n(y_n − σ((w^{(t)})^{T} x_n+b^{t}))$ <br>\n",
        "        $b^{(t+1)} ← (1 − \\frac{αλ}{N} )b^{(t)} + α(y_n − σ((w^{(t)})^{T} x_n+b^{t}))$ \n",
        "        - calculate the log loss for train and test with the updated weights (you can check the python assignment 10th question)\n",
        "        - And if you wish, you can compare the previous loss and the current loss, if it is not updating, then\n",
        "        you can stop the training\n",
        "        - append this loss in the list ( this will be used to see how loss is changing for each epoch after the training is over )\n"
      ]
    },
    {
      "cell_type": "markdown",
      "metadata": {
        "colab_type": "text",
        "id": "2qmRH4UpSvny"
      },
      "source": [
        "- Plot the train and test loss i.e on x-axis the epoch number, and on y-axis the loss"
      ]
    },
    {
      "cell_type": "markdown",
      "metadata": {
        "colab_type": "text",
        "id": "lbZf9p5gSvn1"
      },
      "source": [
        "- <strong>GOAL</strong>: compare your implementation and SGDClassifier's the weights and intercept, make sure they are as close as possible i.e difference should be in terms of 10^-3"
      ]
    },
    {
      "cell_type": "code",
      "metadata": {
        "colab_type": "code",
        "id": "Fpz8X5DMSvn2",
        "outputId": "602b2dd5-c97c-4c86-9c4c-f5a5b6d74039",
        "colab": {
          "base_uri": "https://localhost:8080/",
          "height": 34
        }
      },
      "source": [
        "import math\n",
        "w = np.zeros_like(X_train[0])\n",
        "b = 0\n",
        "N = len(X_train)\n",
        "N"
      ],
      "execution_count": 9,
      "outputs": [
        {
          "output_type": "execute_result",
          "data": {
            "text/plain": [
              "37500"
            ]
          },
          "metadata": {
            "tags": []
          },
          "execution_count": 9
        }
      ]
    },
    {
      "cell_type": "code",
      "metadata": {
        "colab_type": "code",
        "id": "B6Y5kVscSvn5",
        "colab": {}
      },
      "source": [
        "# write your code to implement SGD as per the above instructions\n",
        "# please choose the number of iternations on your own"
      ],
      "execution_count": 0,
      "outputs": []
    },
    {
      "cell_type": "code",
      "metadata": {
        "id": "yX6awyt6Nhd5",
        "colab_type": "code",
        "outputId": "80312653-c947-4b4b-beed-d7addccf322c",
        "colab": {
          "base_uri": "https://localhost:8080/",
          "height": 1000
        }
      },
      "source": [
        "from tqdm import tqdm \n",
        "def sigmoid(w,x,b):\n",
        "    return 1/(1+np.exp(-(np.dot(x,w)+b)))\n",
        "\n",
        "def coefficients_SGD(x_train,x_test,y_train,y_test,n_epoch):\n",
        "    coef=np.random.normal(0,0.0001, size=(len(x_train[0])))\n",
        "    intcpt=np.random.normal(0,0.0001)\n",
        "    lamda  = 0.0001\n",
        "    alpha = 0.0001\n",
        "    N=len(X_train)\n",
        "    LOSS_TRAIN=[]\n",
        "    LOSS_TEST=[]\n",
        "    for epoch in range(n_epoch):\n",
        "        for i in range(len(x_train)):\n",
        "            dcoef= (x_train[i]*(y_train[i]-sigmoid(coef,x_train[i],intcpt)))\n",
        "            dintcpt=(y_train[i]-sigmoid(coef,x_train[i],intcpt))\n",
        "            coef=((1-(alpha*lamda)/N)*coef+(alpha*dcoef))\n",
        "            intcpt=((1-(alpha*lamda)/N)*intcpt+(alpha*dintcpt))\n",
        "        ypred_train= sigmoid(coef,x_train,intcpt)\n",
        "        ypred_test= sigmoid(coef,x_test,intcpt)\n",
        "        loss_train=0\n",
        "        for i in range(len(y_train)):\n",
        "                loss_train=-((y_train[i]*(math.log(ypred_train[i])))+ ((1-y_train[i])*(math.log(1-ypred_train[i]))))\n",
        "        for j in range(len(y_test)):\n",
        "                loss_test=-((y_test[j]*(math.log(ypred_test[j])))+ ((1-y_test[j])*(math.log(1-ypred_test[j])))) \n",
        "        Avg_Loss_Train=loss_train/len(y_train)\n",
        "        LOSS_TRAIN.append(Avg_Loss_Train)\n",
        "        Avg_Loss_Test=loss_test/len(y_test)\n",
        "        LOSS_TEST.append(Avg_Loss_Test)\n",
        "        print(\"epoch=\",epoch,\"; Loss_Train:\",Avg_Loss_Train,\"Loss_Test\",Avg_Loss_Test)\n",
        "    return coef,intcpt,LOSS_TRAIN,LOSS_TEST\n",
        "\n",
        "coef,intcpt,LOSS_TRAIN,LOSS_TEST=coefficients_SGD(X_train,X_test,y_train,y_test,70)"
      ],
      "execution_count": 44,
      "outputs": [
        {
          "output_type": "stream",
          "text": [
            "epoch= 0 ; Loss_Train: 1.769437805454955e-05 Loss_Test 9.808950018400935e-05\n",
            "epoch= 1 ; Loss_Train: 1.6894228719028168e-05 Loss_Test 9.586387328161591e-05\n",
            "epoch= 2 ; Loss_Train: 1.6681175908754043e-05 Loss_Test 9.093702056916448e-05\n",
            "epoch= 3 ; Loss_Train: 1.6588884676066017e-05 Loss_Test 8.693895116322342e-05\n",
            "epoch= 4 ; Loss_Train: 1.6532651381600616e-05 Loss_Test 8.401673286368027e-05\n",
            "epoch= 5 ; Loss_Train: 1.649259273945252e-05 Loss_Test 8.191369177276093e-05\n",
            "epoch= 6 ; Loss_Train: 1.6462683164730193e-05 Loss_Test 8.039381315481112e-05\n",
            "epoch= 7 ; Loss_Train: 1.6440155596316022e-05 Loss_Test 7.928638201835448e-05\n",
            "epoch= 8 ; Loss_Train: 1.642320591185144e-05 Loss_Test 7.847309226199616e-05\n",
            "epoch= 9 ; Loss_Train: 1.641048215616865e-05 Loss_Test 7.787188617687107e-05\n",
            "epoch= 10 ; Loss_Train: 1.6400944952651492e-05 Loss_Test 7.742514817683682e-05\n",
            "epoch= 11 ; Loss_Train: 1.6393799948667966e-05 Loss_Test 7.709185803734507e-05\n",
            "epoch= 12 ; Loss_Train: 1.6388446011269478e-05 Loss_Test 7.684244228140531e-05\n",
            "epoch= 13 ; Loss_Train: 1.638443158182576e-05 Loss_Test 7.665535663621321e-05\n",
            "epoch= 14 ; Loss_Train: 1.6381418928863623e-05 Loss_Test 7.651477470416802e-05\n",
            "epoch= 15 ; Loss_Train: 1.6379155953243134e-05 Loss_Test 7.640899411453836e-05\n",
            "epoch= 16 ; Loss_Train: 1.6377454549611668e-05 Loss_Test 7.632931782060946e-05\n",
            "epoch= 17 ; Loss_Train: 1.6376174282050712e-05 Loss_Test 7.626925691124889e-05\n",
            "epoch= 18 ; Loss_Train: 1.637521018930952e-05 Loss_Test 7.622395537326634e-05\n",
            "epoch= 19 ; Loss_Train: 1.637448372006908e-05 Loss_Test 7.618977078290113e-05\n",
            "epoch= 20 ; Loss_Train: 1.6373936007316777e-05 Loss_Test 7.6163966181915e-05\n",
            "epoch= 21 ; Loss_Train: 1.6373522877949767e-05 Loss_Test 7.614448221160082e-05\n",
            "epoch= 22 ; Loss_Train: 1.637321114561359e-05 Loss_Test 7.612976775968463e-05\n",
            "epoch= 23 ; Loss_Train: 1.6372975852041367e-05 Loss_Test 7.611865360762913e-05\n",
            "epoch= 24 ; Loss_Train: 1.6372798210204634e-05 Loss_Test 7.611025787802682e-05\n",
            "epoch= 25 ; Loss_Train: 1.637266406774203e-05 Loss_Test 7.610391511566186e-05\n",
            "epoch= 26 ; Loss_Train: 1.637256275693918e-05 Loss_Test 7.609912300076844e-05\n",
            "epoch= 27 ; Loss_Train: 1.637248623260413e-05 Loss_Test 7.609550225638775e-05\n",
            "epoch= 28 ; Loss_Train: 1.6372428424822147e-05 Loss_Test 7.60927664515737e-05\n",
            "epoch= 29 ; Loss_Train: 1.6372384752444303e-05 Loss_Test 7.609069923985769e-05\n",
            "epoch= 30 ; Loss_Train: 1.6372351757006805e-05 Loss_Test 7.608913719186664e-05\n",
            "epoch= 31 ; Loss_Train: 1.6372326827041008e-05 Loss_Test 7.608795684120171e-05\n",
            "epoch= 32 ; Loss_Train: 1.637230799030489e-05 Loss_Test 7.608706490614462e-05\n",
            "epoch= 33 ; Loss_Train: 1.637229375711531e-05 Loss_Test 7.608639090660879e-05\n",
            "epoch= 34 ; Loss_Train: 1.6372283002160384e-05 Loss_Test 7.608588158848304e-05\n",
            "epoch= 35 ; Loss_Train: 1.6372274875304604e-05 Loss_Test 7.608549671227059e-05\n",
            "epoch= 36 ; Loss_Train: 1.6372268734258508e-05 Loss_Test 7.608520587180433e-05\n",
            "epoch= 37 ; Loss_Train: 1.6372264093737796e-05 Loss_Test 7.608498609088978e-05\n",
            "epoch= 38 ; Loss_Train: 1.6372260587070384e-05 Loss_Test 7.608482000751302e-05\n",
            "epoch= 39 ; Loss_Train: 1.6372257937196953e-05 Loss_Test 7.608469450189905e-05\n",
            "epoch= 40 ; Loss_Train: 1.6372255934764974e-05 Loss_Test 7.60845996598916e-05\n",
            "epoch= 41 ; Loss_Train: 1.6372254421579983e-05 Loss_Test 7.608452798966443e-05\n",
            "epoch= 42 ; Loss_Train: 1.637225327810276e-05 Loss_Test 7.60844738298504e-05\n",
            "epoch= 43 ; Loss_Train: 1.6372252414003255e-05 Loss_Test 7.60844329022932e-05\n",
            "epoch= 44 ; Loss_Train: 1.63722517610213e-05 Loss_Test 7.608440197409236e-05\n",
            "epoch= 45 ; Loss_Train: 1.6372251267576653e-05 Loss_Test 7.608437860221074e-05\n",
            "epoch= 46 ; Loss_Train: 1.637225089469006e-05 Loss_Test 7.608436094050022e-05\n",
            "epoch= 47 ; Loss_Train: 1.637225061290681e-05 Loss_Test 7.608434759385897e-05\n",
            "epoch= 48 ; Loss_Train: 1.6372250399968415e-05 Loss_Test 7.608433750803877e-05\n",
            "epoch= 49 ; Loss_Train: 1.6372250239054906e-05 Loss_Test 7.60843298863618e-05\n",
            "epoch= 50 ; Loss_Train: 1.6372250117455534e-05 Loss_Test 7.60843241267943e-05\n",
            "epoch= 51 ; Loss_Train: 1.637225002556473e-05 Loss_Test 7.608431977438987e-05\n",
            "epoch= 52 ; Loss_Train: 1.6372249956124716e-05 Loss_Test 7.60843164853534e-05\n",
            "epoch= 53 ; Loss_Train: 1.637224990365011e-05 Loss_Test 7.608431399988599e-05\n",
            "epoch= 54 ; Loss_Train: 1.6372249863995903e-05 Loss_Test 7.608431212166075e-05\n",
            "epoch= 55 ; Loss_Train: 1.6372249834030025e-05 Loss_Test 7.608431070231911e-05\n",
            "epoch= 56 ; Loss_Train: 1.6372249811385196e-05 Loss_Test 7.608430962974712e-05\n",
            "epoch= 57 ; Loss_Train: 1.637224979427301e-05 Loss_Test 7.608430881922254e-05\n",
            "epoch= 58 ; Loss_Train: 1.637224978134145e-05 Loss_Test 7.6084308206724e-05\n",
            "epoch= 59 ; Loss_Train: 1.6372249771569545e-05 Loss_Test 7.608430774386908e-05\n",
            "epoch= 60 ; Loss_Train: 1.63722497641849e-05 Loss_Test 7.60843073940977e-05\n",
            "epoch= 61 ; Loss_Train: 1.6372249758604672e-05 Loss_Test 7.608430712978113e-05\n",
            "epoch= 62 ; Loss_Train: 1.6372249754387797e-05 Loss_Test 7.608430693004259e-05\n",
            "epoch= 63 ; Loss_Train: 1.637224975120087e-05 Loss_Test 7.608430677910372e-05\n",
            "epoch= 64 ; Loss_Train: 1.6372249748792832e-05 Loss_Test 7.608430666504149e-05\n",
            "epoch= 65 ; Loss_Train: 1.6372249746973013e-05 Loss_Test 7.608430657884656e-05\n",
            "epoch= 66 ; Loss_Train: 1.6372249745597692e-05 Loss_Test 7.608430651371019e-05\n",
            "epoch= 67 ; Loss_Train: 1.6372249744558582e-05 Loss_Test 7.608430646448771e-05\n",
            "epoch= 68 ; Loss_Train: 1.6372249743773278e-05 Loss_Test 7.60843064272912e-05\n",
            "epoch= 69 ; Loss_Train: 1.63722497431799e-05 Loss_Test 7.608430639918331e-05\n"
          ],
          "name": "stdout"
        }
      ]
    },
    {
      "cell_type": "code",
      "metadata": {
        "id": "clLt0AtbNhd8",
        "colab_type": "code",
        "outputId": "399bd6d4-481e-4ee6-8557-ee72ed514e21",
        "colab": {
          "base_uri": "https://localhost:8080/",
          "height": 101
        }
      },
      "source": [
        "print(\"Coeficients:\",coef)\n",
        "print(\"\\nIntercept=\",intcpt)"
      ],
      "execution_count": 45,
      "outputs": [
        {
          "output_type": "stream",
          "text": [
            "Coeficients: [-0.42982412  0.19298994 -0.14855936  0.33811969 -0.22124232  0.56989603\n",
            " -0.44517259 -0.08998862  0.22189033  0.1737813   0.19877135 -0.00066692\n",
            " -0.08135564  0.33908197  0.02298398]\n",
            "\n",
            "Intercept= -0.8922526913805908\n"
          ],
          "name": "stdout"
        }
      ]
    },
    {
      "cell_type": "code",
      "metadata": {
        "id": "ifXgdqCE2OB9",
        "colab_type": "code",
        "colab": {
          "base_uri": "https://localhost:8080/",
          "height": 118
        },
        "outputId": "096e7a8d-eef0-4a5a-b6a7-25934bd9922a"
      },
      "source": [
        "print(coef-clf.coef_)\n",
        "print(\"\\n\",intcpt-clf.intercept_)"
      ],
      "execution_count": 46,
      "outputs": [
        {
          "output_type": "stream",
          "text": [
            "[[-6.45720777e-03  7.51429134e-03  3.09950136e-05 -3.32437632e-03\n",
            "  -1.30556184e-02  9.73024639e-03  7.25223786e-03  4.09950486e-03\n",
            "   1.26171343e-02 -7.05996385e-03  1.71944496e-03 -4.88608062e-03\n",
            "  -1.75194799e-03  5.53949691e-04  3.16768106e-04]]\n",
            "\n",
            " [-0.03911439]\n"
          ],
          "name": "stdout"
        }
      ]
    },
    {
      "cell_type": "markdown",
      "metadata": {
        "id": "M2EXJmj7NheA",
        "colab_type": "text"
      },
      "source": [
        "# Comparison of W & B between SGD Classifier & Custom Implementation"
      ]
    },
    {
      "cell_type": "markdown",
      "metadata": {
        "id": "AuzdrtJGNheB",
        "colab_type": "text"
      },
      "source": [
        "[[-6.45720777e-03  7.51429134e-03  3.09950136e-05 -3.32437632e-03\n",
        "  -1.30556184e-02  9.73024639e-03  7.25223786e-03  4.09950486e-03\n",
        "   1.26171343e-02 -7.05996385e-03  1.71944496e-03 -4.88608062e-03\n",
        "  -1.75194799e-03  5.53949691e-04  3.16768106e-04]]\n",
        "\n",
        " [-0.03911439]"
      ]
    },
    {
      "cell_type": "code",
      "metadata": {
        "id": "sWSzUX3hNheC",
        "colab_type": "code",
        "outputId": "2e57e49e-796c-4a42-d0e0-50055d5cb830",
        "colab": {
          "base_uri": "https://localhost:8080/",
          "height": 295
        }
      },
      "source": [
        "import matplotlib.pyplot as plt\n",
        "error_train=[]\n",
        "error_train.append(LOSS_TRAIN[0])\n",
        "error_train.append(LOSS_TRAIN[24])\n",
        "error_train.append(LOSS_TRAIN[49])\n",
        "\n",
        "error_test=[]\n",
        "error_test.append(LOSS_TEST[0])\n",
        "error_test.append(LOSS_TEST[24])\n",
        "error_test.append(LOSS_TEST[49])\n",
        "\n",
        "\n",
        "epoch=[1,25,50]\n",
        "plt.plot(epoch,error_train, label='Train')\n",
        "plt.plot(epoch,error_test, label='Test')\n",
        "\n",
        "plt.scatter(epoch,error_train)\n",
        "plt.scatter(epoch,error_test)\n",
        "\n",
        "plt.legend()\n",
        "plt.xlabel(\"epoch\")\n",
        "plt.ylabel(\"ERROR\")\n",
        "plt.title(\"ERROR PLOTS\")\n",
        "plt.grid()\n",
        "plt.show()"
      ],
      "execution_count": 49,
      "outputs": [
        {
          "output_type": "display_data",
          "data": {
            "image/png": "[encoded data removed]",
            "text/plain": [
              "<Figure size 432x288 with 1 Axes>"
            ]
          },
          "metadata": {
            "tags": []
          }
        }
      ]
    },
    {
      "cell_type": "code",
      "metadata": {
        "id": "dcKTZfVCSO81",
        "colab_type": "code",
        "colab": {}
      },
      "source": [
        ""
      ],
      "execution_count": 0,
      "outputs": []
    }
  ]
}